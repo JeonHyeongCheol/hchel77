{
 "cells": [
  {
   "cell_type": "code",
   "execution_count": 1,
   "metadata": {},
   "outputs": [],
   "source": [
    "from pandas import Series, DataFrame\n",
    "import numpy as np"
   ]
  },
  {
   "cell_type": "code",
   "execution_count": 6,
   "metadata": {},
   "outputs": [
    {
     "name": "stdout",
     "output_type": "stream",
     "text": [
      "d    5\n",
      "b    7\n",
      "a   -2\n",
      "c    3\n",
      "dtype: int64\n",
      "a   -2.0\n",
      "b    7.0\n",
      "c    3.0\n",
      "d    5.0\n",
      "e    NaN\n",
      "dtype: float64\n",
      "0    마우스\n",
      "2    키보드\n",
      "3    모니터\n",
      "dtype: object\n",
      "0    마우스\n",
      "1    NaN\n",
      "2    키보드\n",
      "3    모니터\n",
      "4    NaN\n",
      "5    NaN\n",
      "dtype: object\n",
      "0    마우스\n",
      "1    마우스\n",
      "2    키보드\n",
      "3    모니터\n",
      "4    모니터\n",
      "5    모니터\n",
      "dtype: object\n",
      "0    마우스\n",
      "1    키보드\n",
      "2    키보드\n",
      "3    모니터\n",
      "4    NaN\n",
      "5    NaN\n",
      "dtype: object\n"
     ]
    }
   ],
   "source": [
    "# Series\n",
    "data = Series([5,7,-2,3], index = ('d', 'b', 'a', 'c'))\n",
    "print(data)\n",
    "data2 = data.reindex(['a', 'b', 'c', 'd', 'e'])\n",
    "#data2 = data.reindex(['a', 'b', 'c', 'd', 'e'], fill_value = 0) # 없는 값에 0으로 채워줌.\n",
    "print(data2)\n",
    "data3 = Series(['마우스', '키보드', '모니터'], index = [0, 2, 3])\n",
    "print(data3)\n",
    "print(data3.reindex(range(6))) # 누락된 위치에는 NaN으로 채워짐.\n",
    "print(data3.reindex(range(6), method=\"ffill\")) # 값이 없는데는 앞에 있는 값을 채움.\n",
    "print(data3.reindex(range(6), method=\"bfill\"))\n",
    "#print(data3.reindex(range(6), method=\"backfill\"))"
   ]
  },
  {
   "cell_type": "code",
   "execution_count": 13,
   "metadata": {},
   "outputs": [
    {
     "name": "stdout",
     "output_type": "stream",
     "text": [
      "    강남  강북\n",
      "1월   0   1\n",
      "3월   2   3\n",
      "4월   4   5\n",
      "    강남  강북\n",
      "1월   0   1\n",
      "3월   2   3\n",
      "4월   4   5\n",
      "     강남   강북\n",
      "1월  0.0  1.0\n",
      "2월  NaN  NaN\n",
      "3월  2.0  3.0\n",
      "4월  4.0  5.0\n",
      "    강남  서초  강동\n",
      "1월   0 NaN NaN\n",
      "3월   2 NaN NaN\n",
      "4월   4 NaN NaN\n",
      "    강남  서초  강동\n",
      "1월   0   1   0\n",
      "2월   0   1   0\n",
      "3월   2   3   2\n",
      "4월   4   5   4\n"
     ]
    }
   ],
   "source": [
    "# DataFrame\n",
    "df = DataFrame(np.arange(6).reshape((3,2)), index = ['1월', '3월', '4월'], \\\n",
    "              columns = ['강남', '강북'])\n",
    "print(df)\n",
    "\n",
    "print(df)\n",
    "df2 = df.reindex(['1월', '2월', '3월', '4월'])\n",
    "print(df2)\n",
    "site = ['강남', '서초', '강동']\n",
    "df3 = df.reindex(columns=site)\n",
    "print(df3)\n",
    "df4 = df.reindex(['1월', '2월', '3월', '4월'], columns=site, method='ffill')\n",
    "print(df4)"
   ]
  },
  {
   "cell_type": "code",
   "execution_count": null,
   "metadata": {},
   "outputs": [],
   "source": []
  }
 ],
 "metadata": {
  "kernelspec": {
   "display_name": "Python 3",
   "language": "python",
   "name": "python3"
  },
  "language_info": {
   "codemirror_mode": {
    "name": "ipython",
    "version": 3
   },
   "file_extension": ".py",
   "mimetype": "text/x-python",
   "name": "python",
   "nbconvert_exporter": "python",
   "pygments_lexer": "ipython3",
   "version": "3.6.5"
  }
 },
 "nbformat": 4,
 "nbformat_minor": 2
}
