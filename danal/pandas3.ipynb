{
 "cells": [
  {
   "cell_type": "code",
   "execution_count": 2,
   "metadata": {},
   "outputs": [],
   "source": [
    "from pandas import Series, DataFrame\n",
    "import numpy as np"
   ]
  },
  {
   "cell_type": "code",
   "execution_count": 5,
   "metadata": {},
   "outputs": [
    {
     "name": "stdout",
     "output_type": "stream",
     "text": [
      "a    0.0\n",
      "b    1.0\n",
      "c    2.0\n",
      "d    3.0\n",
      "dtype: float64\n",
      "1.0 1.0\n",
      "c    2.0\n",
      "d    3.0\n",
      "dtype: float64\n",
      "b    1.0\n",
      "d    3.0\n",
      "dtype: float64\n",
      "c    2.0\n",
      "a    0.0\n",
      "dtype: float64\n",
      "a    0.0\n",
      "b    1.0\n",
      "c    2.0\n",
      "dtype: float64\n",
      "a     True\n",
      "b     True\n",
      "c    False\n",
      "d    False\n",
      "dtype: bool\n",
      "a    0.0\n",
      "b    1.0\n",
      "dtype: float64\n",
      "a    0.0\n",
      "b    1.0\n",
      "c    2.0\n",
      "d    3.0\n",
      "dtype: float64\n"
     ]
    }
   ],
   "source": [
    "obj = Series(np.arange(4.), index=['a', 'b', 'c', 'd'])\n",
    "print(obj)\n",
    "print(obj[1], obj['b'])\n",
    "print(obj[2:4]) # 범위\n",
    "print(obj[[1,3]]) # 각각\n",
    "print(obj[['c', 'a']])\n",
    "print(obj['a':'c'])\n",
    "print(obj < 2)\n",
    "print(obj[obj < 2])\n",
    "print(obj)"
   ]
  },
  {
   "cell_type": "code",
   "execution_count": 10,
   "metadata": {},
   "outputs": [
    {
     "name": "stdout",
     "output_type": "stream",
     "text": [
      "    강남  강북  서초\n",
      "1월   0   1   2\n",
      "2월   3   4   5\n",
      "3월   6   7   8\n",
      "4월   9  10  11\n",
      "1월    False\n",
      "2월    False\n",
      "3월     True\n",
      "4월     True\n",
      "Name: 강남, dtype: bool\n",
      "    강남  강북  서초\n",
      "3월   6   7   8\n",
      "4월   9  10  11\n",
      "    강남  강북  서초\n",
      "1월   0   0   0\n",
      "2월   3   4   5\n",
      "3월   6   7   8\n",
      "4월   9  10  11\n",
      "\n",
      "강남    6\n",
      "강북    7\n",
      "Name: 3월, dtype: int32\n",
      "강남    6\n",
      "강북    7\n",
      "서초    8\n",
      "Name: 3월, dtype: int32\n",
      "    강남  강북  서초\n",
      "1월   0   0   0\n",
      "2월   3   4   5\n",
      "1월    0\n",
      "2월    5\n",
      "Name: 서초, dtype: int32\n"
     ]
    }
   ],
   "source": [
    "frame = DataFrame(np.arange(12).reshape(4,3), index = ['1월', '2월', '3월', '4월'], \\\n",
    "                  columns = [\"강남\", \"강북\", \"서초\"])\n",
    "print(frame)\n",
    "print(frame['강남'] > 3)\n",
    "#print(frame.강남)\n",
    "print(frame[frame['강남'] > 3])\n",
    "frame[frame < 3] = 0\n",
    "print(frame)\n",
    "print()\n",
    "\n",
    "print(frame.loc['3월', ['강남', '강북']]) # loc : 라벨기반\n",
    "print(frame.iloc[2]) # loc : 숫자기반\n",
    "print(frame.loc[:'2월'])\n",
    "print(frame.loc[:'2월', '서초'])"
   ]
  }
 ],
 "metadata": {
  "kernelspec": {
   "display_name": "Python 3",
   "language": "python",
   "name": "python3"
  },
  "language_info": {
   "codemirror_mode": {
    "name": "ipython",
    "version": 3
   },
   "file_extension": ".py",
   "mimetype": "text/x-python",
   "name": "python",
   "nbconvert_exporter": "python",
   "pygments_lexer": "ipython3",
   "version": "3.6.5"
  }
 },
 "nbformat": 4,
 "nbformat_minor": 2
}
