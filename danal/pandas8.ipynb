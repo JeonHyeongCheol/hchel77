{
 "cells": [
  {
   "cell_type": "code",
   "execution_count": 2,
   "metadata": {},
   "outputs": [],
   "source": [
    "import pandas as pd"
   ]
  },
  {
   "cell_type": "code",
   "execution_count": 9,
   "metadata": {},
   "outputs": [
    {
     "name": "stdout",
     "output_type": "stream",
     "text": [
      "   bunho irum  kor  eng\n",
      "0      1  홍길동   90   90\n",
      "1      2  신기해   95   80\n",
      "2      3  한국인  100   85 <class 'pandas.core.frame.DataFrame'>\n",
      "\n",
      "       a   b   c   d\n",
      "msg                 \n",
      "hello  1   2   3   4\n",
      "world  5   6   7   8\n",
      "foo    9  10  11  12\n"
     ]
    }
   ],
   "source": [
    "# file io\n",
    "df = pd.read_csv('testdata/ex1.csv')\n",
    "print(df, type(df))\n",
    "print()\n",
    "\n",
    "#df = pd.read_csv('testdata/ex1.csv')\n",
    "df = pd.read_csv('testdata/ex2.csv', header=None)\n",
    "df = pd.read_csv('testdata/ex2.csv', names=['a', 'b'])\n",
    "df = pd.read_csv('testdata/ex2.csv', names=['a', 'b', 'c', 'd', 'e', 'f'])\n",
    "df = pd.read_csv('testdata/ex2.csv', names=['a', 'b', 'c', 'd', 'msg'], index_col='msg') # 인덱스 칼럼명 설정 가능\n",
    "print(df)"
   ]
  },
  {
   "cell_type": "code",
   "execution_count": 18,
   "metadata": {},
   "outputs": [
    {
     "name": "stdout",
     "output_type": "stream",
     "text": [
      "            A         B         C\n",
      "bbb  0.927272  0.302904 -0.032399\n",
      "ddd -0.871858 -0.348382  1.100491\n",
      "\n",
      "         data name  price\n",
      "0  2017-04-10  네이버  32000\n",
      "1  2017-04-11  네이버  34000\n",
      "2  2017-04-12  네이버  33000\n",
      "3  2017-04-10  코리아  22000\n",
      "4  2017-04-11  코리아  21000\n",
      "5  2017-04-12  코리아  24000\n"
     ]
    }
   ],
   "source": [
    "df = pd.read_csv('testdata/ex3.txt')\n",
    "df = pd.read_csv('testdata/ex3.txt', sep='\\s+')\n",
    "df = pd.read_csv('testdata/ex3.txt', sep='\\s+', skiprows=[1,3]) # 정규표현식, 특정행 스킵 가능. 여기서는 1,3 행만 가져옴.\n",
    "df = pd.read_table('testdata/ex3.txt', sep='\\s+', skiprows=[1,3])\n",
    "print(df)\n",
    "print()\n",
    "\n",
    "df2 = pd.read_fwf('testdata/data_fwt.txt', widths=(10, 3, 5), names = ('data', 'name', 'price'), encoding='utf8')\n",
    "print(df2)"
   ]
  },
  {
   "cell_type": "code",
   "execution_count": 20,
   "metadata": {},
   "outputs": [
    {
     "name": "stdout",
     "output_type": "stream",
     "text": [
      "<pandas.io.parsers.TextFileReader object at 0x0000000008122588>\n",
      "   0    1     2\n",
      "2  3  바나나  1000\n",
      "0  1   사과  3500\n",
      "1  2    배  5000\n",
      "   0   1     2\n",
      "4  5  참외  2000\n",
      "3  4  수박  7000\n"
     ]
    }
   ],
   "source": [
    "# chunk size를 이용\n",
    "test = pd.read_csv('testdata/data_csv2.csv', header=None, chunksize=3)\n",
    "print(test)\n",
    "\n",
    "for piece in test:\n",
    "    #print(piece)\n",
    "    print(piece.sort_values(by=2, ascending=True))"
   ]
  }
 ],
 "metadata": {
  "kernelspec": {
   "display_name": "Python 3",
   "language": "python",
   "name": "python3"
  },
  "language_info": {
   "codemirror_mode": {
    "name": "ipython",
    "version": 3
   },
   "file_extension": ".py",
   "mimetype": "text/x-python",
   "name": "python",
   "nbconvert_exporter": "python",
   "pygments_lexer": "ipython3",
   "version": "3.6.5"
  }
 },
 "nbformat": 4,
 "nbformat_minor": 2
}
