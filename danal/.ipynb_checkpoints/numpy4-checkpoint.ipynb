{
 "cells": [
  {
   "cell_type": "code",
   "execution_count": 23,
   "metadata": {},
   "outputs": [],
   "source": [
    "import numpy as np"
   ]
  },
  {
   "cell_type": "code",
   "execution_count": 24,
   "metadata": {},
   "outputs": [
    {
     "name": "stdout",
     "output_type": "stream",
     "text": [
      "[1 5 3]\n",
      "(array([1, 2], dtype=int64),)\n",
      "[2 3]\n",
      "['F' 'F' 'T']\n",
      "[101 102   3]\n",
      "\n",
      "[[-0.45381731  2.27258411  0.26805692 -1.4062488 ]\n",
      " [-0.60228233  2.63169459 -1.05058318  0.57105596]\n",
      " [ 0.96098193  0.97911828  1.08882086 -0.26557409]\n",
      " [ 0.00327342 -0.71510747 -0.60868412 -1.38754807]]\n",
      "[[-0.45381731  2.          2.         -1.4062488 ]\n",
      " [-0.60228233  2.         -1.05058318  2.        ]\n",
      " [ 2.          2.          2.         -0.26557409]\n",
      " [ 2.         -0.71510747 -0.60868412 -1.38754807]]\n",
      "[[0.45381731 1.         1.         1.4062488 ]\n",
      " [0.60228233 1.         1.05058318 1.        ]\n",
      " [1.         1.         1.         0.26557409]\n",
      " [1.         0.71510747 0.60868412 1.38754807]]\n"
     ]
    }
   ],
   "source": [
    "x = np.array([1,2,3])\n",
    "y = np.array([4,5,6])\n",
    "condition = np.array([True, False, True])\n",
    "result = np.where(condition, x, y)\n",
    "print(result)\n",
    "\n",
    "aa = np.where(x >= 2)\n",
    "print(aa)\n",
    "print(x[aa])\n",
    "print(np.where(x > 2, \"T\", \"F\"))\n",
    "print(np.where(x > 2, x, x + 100))\n",
    "print()\n",
    "      \n",
    "my = np.random.randn(4,4)\n",
    "print(my)\n",
    "#my = np.random.randn(4,4)\n",
    "#my = np.random.choice(100, 5)\n",
    "print(np.where(my > 0, 2, my))\n",
    "print(np.where(my > 0, 1, my * -1))"
   ]
  },
  {
   "cell_type": "code",
   "execution_count": 28,
   "metadata": {},
   "outputs": [
    {
     "name": "stdout",
     "output_type": "stream",
     "text": [
      "aa=\n",
      " [[1. 0. 0.]\n",
      " [0. 1. 0.]\n",
      " [0. 0. 1.]]\n",
      "bb=\n",
      " [[1. 0. 0. 0.]\n",
      " [0. 1. 0. 0.]\n",
      " [0. 0. 1. 1.]]\n",
      "cc=\n",
      " [[1. 0. 0.]\n",
      " [0. 1. 0.]\n",
      " [0. 0. 1.]\n",
      " [0. 0. 1.]]\n",
      "[1 2 3]\n",
      "[[1]\n",
      " [2]\n",
      " [3]]\n"
     ]
    }
   ],
   "source": [
    "aa = np.eye(3)\n",
    "print(\"aa=\\n\", aa) #3x3짜리 단위행렬 만들어짐\n",
    "bb = np.c_[aa, aa[2]] #aa에다 aa의 2행(세번째 행)을 열로 추가함\n",
    "print(\"bb=\\n\", bb)\n",
    "cc = np.r_[aa, aa[[2]]]\n",
    "print(\"cc=\\n\", cc) #2행을 행으로 추가함\n",
    "\n",
    "a = np.array([1,2,3])\n",
    "print(a)\n",
    "print(np.c_[a]) #그냥 이렇게 하면 transpose?"
   ]
  },
  {
   "cell_type": "code",
   "execution_count": 27,
   "metadata": {},
   "outputs": [
    {
     "name": "stdout",
     "output_type": "stream",
     "text": [
      "7 5 5 3 6 \n",
      "[3, 2, 1, 7, 6]\n",
      "\n",
      "45\n",
      "[30, 9, 37, 4, 35, 31]\n",
      "[13 20 28  1 24  5]\n",
      "[ 5 40 20 19 23 13]\n",
      "[3 3 0]\n",
      "['~', '!', '@', '#', '$', '%', '^']\n",
      "['!' '$' '$']\n"
     ]
    }
   ],
   "source": [
    "import random\n",
    "\n",
    "li = [1, 2, 3, 4, 5, 6, 7]\n",
    "for i in range(5):\n",
    "    print(li[random.randint(0, len(li) - 1)], end = \" \")\n",
    "    \n",
    "print()\n",
    "print(random.sample(li, k = 5))\n",
    "\n",
    "print()\n",
    "li = list(range(1, 46))\n",
    "print(len(li))\n",
    "print(random.sample(li, k = 6))\n",
    "print(np.random.choice(li, 6, replace=False))\n",
    "print(np.random.choice(li, 6, replace=True))\n",
    "print(np.random.choice(5, 3, replace=True))\n",
    "\n",
    "ar = ['~', '!', '@', '#', '$', '%', '^']\n",
    "print(ar)\n",
    "print(np.random.choice(ar, 3, p=[0.1, 0.1, 0.1, 0.1, 0.1, 0.1, 0.4]))"
   ]
  }
 ],
 "metadata": {
  "kernelspec": {
   "display_name": "Python 3",
   "language": "python",
   "name": "python3"
  },
  "language_info": {
   "codemirror_mode": {
    "name": "ipython",
    "version": 3
   },
   "file_extension": ".py",
   "mimetype": "text/x-python",
   "name": "python",
   "nbconvert_exporter": "python",
   "pygments_lexer": "ipython3",
   "version": "3.6.5"
  }
 },
 "nbformat": 4,
 "nbformat_minor": 2
}
