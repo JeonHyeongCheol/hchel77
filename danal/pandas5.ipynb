{
 "cells": [
  {
   "cell_type": "code",
   "execution_count": 25,
   "metadata": {},
   "outputs": [],
   "source": [
    "from pandas import Series, DataFrame\n",
    "import pandas as pd\n",
    "import numpy as np"
   ]
  },
  {
   "cell_type": "code",
   "execution_count": 15,
   "metadata": {},
   "outputs": [
    {
     "name": "stdout",
     "output_type": "stream",
     "text": [
      "   one  two\n",
      "a  1.5  NaN\n",
      "b  7.0 -4.5\n",
      "c  NaN  NaN\n",
      "d  0.5 -1.0\n",
      "\n",
      "   one  two\n",
      "b  7.0 -4.5\n",
      "d  0.5 -1.0\n",
      "\n",
      "   one  two\n",
      "a  1.5  NaN\n",
      "b  7.0 -4.5\n",
      "d  0.5 -1.0\n",
      "\n",
      "   one  two\n",
      "a  1.5  0.0\n",
      "b  7.0 -4.5\n",
      "c  0.0  0.0\n",
      "d  0.5 -1.0\n"
     ]
    }
   ],
   "source": [
    "df = DataFrame([[1.5, np.NaN], [7, -4.5], [np.NaN, np.NaN], [0.5, -1]], index = ['a', 'b', 'c', 'd'], columns=['one', 'two'])\n",
    "print(df)\n",
    "print()\n",
    "print(df.dropna())\n",
    "print()\n",
    "print(df.dropna(how='all'))\n",
    "print()\n",
    "print(df.fillna(0))"
   ]
  },
  {
   "cell_type": "code",
   "execution_count": 17,
   "metadata": {},
   "outputs": [
    {
     "name": "stdout",
     "output_type": "stream",
     "text": [
      "one    9.0\n",
      "two   -5.5\n",
      "dtype: float64\n",
      "one    9.0\n",
      "two   -5.5\n",
      "dtype: float64\n",
      "\n",
      "a    1.5\n",
      "b    2.5\n",
      "c    0.0\n",
      "d   -0.5\n",
      "dtype: float64\n",
      "\n",
      "a    1.50\n",
      "b    1.25\n",
      "c     NaN\n",
      "d   -0.25\n",
      "dtype: float64\n",
      "a    1.50\n",
      "b    1.25\n",
      "c     NaN\n",
      "d   -0.25\n",
      "dtype: float64\n",
      "a     NaN\n",
      "b    1.25\n",
      "c     NaN\n",
      "d   -0.25\n",
      "dtype: float64\n",
      "\n",
      "one    b\n",
      "two    d\n",
      "dtype: object\n",
      "one    d\n",
      "two    b\n",
      "dtype: object\n",
      "\n",
      "        one       two\n",
      "count  3.00  2.000000\n",
      "mean   3.00 -2.750000\n",
      "std    3.50  2.474874\n",
      "min    0.50 -4.500000\n",
      "25%    1.00 -3.625000\n",
      "50%    1.50 -2.750000\n",
      "75%    4.25 -1.875000\n",
      "max    7.00 -1.000000\n"
     ]
    }
   ],
   "source": [
    "print(df.sum()) # 열의 합. NaN에서 제외\n",
    "print(df.sum(axis=0))\n",
    "print()\n",
    "print(df.sum(axis=1)) #행의 합.\n",
    "print()\n",
    "print(df.mean(axis=1)) # 행의 평균\n",
    "print(df.mean(axis = 1, skipna=True))\n",
    "print(df.mean(axis = 1, skipna=False))\n",
    "print()\n",
    "print(df.idxmax()) # 가장 큰값의 인덱스 반환.\n",
    "print(df.idxmin())\n",
    "print()\n",
    "print(df.describe()) # 요약 통계."
   ]
  },
  {
   "cell_type": "code",
   "execution_count": 20,
   "metadata": {},
   "outputs": [
    {
     "name": "stdout",
     "output_type": "stream",
     "text": [
      "    2015  2016  2017\n",
      "대전  1000  1001  1002\n",
      "서울  1003  1004  1005\n",
      "대전  2015    1000\n",
      "    2016    1001\n",
      "    2017    1002\n",
      "서울  2015    1003\n",
      "    2016    1004\n",
      "    2017    1005\n",
      "dtype: int32\n",
      "\n",
      "    2015  2016  2017\n",
      "대전  1000  1001  1002\n",
      "서울  1003  1004  1005\n"
     ]
    }
   ],
   "source": [
    "df = DataFrame(1000 + np.arange(6).reshape(2, 3), index = ['대전', '서울'], columns=['2015', '2016', '2017'])\n",
    "print(df)\n",
    "df_row = df.stack() # 칼럼을 행으로 변경.\n",
    "print(df_row)\n",
    "print()\n",
    "df_col = df_row.unstack() # 행을 컬럼으로 변경.\n",
    "print(df_col)"
   ]
  },
  {
   "cell_type": "code",
   "execution_count": 23,
   "metadata": {},
   "outputs": [
    {
     "name": "stdout",
     "output_type": "stream",
     "text": [
      "  data  data2\n",
      "0    a      1\n",
      "1    a      1\n",
      "2    a      2\n",
      "3    a      2\n",
      "\n",
      "  data  data2\n",
      "0    a      1\n",
      "2    a      2\n"
     ]
    }
   ],
   "source": [
    "data = {'data' : ['a'] * 4, 'data2': [1, 1, 2, 2]}\n",
    "df2 = DataFrame(data)\n",
    "print(df2)\n",
    "print()\n",
    "result = df2.drop_duplicates() # 중복제거.\n",
    "print(result)"
   ]
  },
  {
   "cell_type": "code",
   "execution_count": 31,
   "metadata": {},
   "outputs": [
    {
     "name": "stdout",
     "output_type": "stream",
     "text": [
      "[(9, 11], (3, 7], (7, 9], (3, 7]]\n",
      "Categories (3, interval[int64]): [(3, 7] < (7, 9] < (9, 11]]\n",
      "(3, 7]     2\n",
      "(9, 11]    1\n",
      "(7, 9]     1\n",
      "dtype: int64\n",
      "\n",
      "995     996\n",
      "996     997\n",
      "997     998\n",
      "998     999\n",
      "999    1000\n",
      "dtype: int32\n",
      "\n",
      "0       (0.999, 334.0]\n",
      "1       (0.999, 334.0]\n",
      "2       (0.999, 334.0]\n",
      "3       (0.999, 334.0]\n",
      "4       (0.999, 334.0]\n",
      "5       (0.999, 334.0]\n",
      "6       (0.999, 334.0]\n",
      "7       (0.999, 334.0]\n",
      "8       (0.999, 334.0]\n",
      "9       (0.999, 334.0]\n",
      "10      (0.999, 334.0]\n",
      "11      (0.999, 334.0]\n",
      "12      (0.999, 334.0]\n",
      "13      (0.999, 334.0]\n",
      "14      (0.999, 334.0]\n",
      "15      (0.999, 334.0]\n",
      "16      (0.999, 334.0]\n",
      "17      (0.999, 334.0]\n",
      "18      (0.999, 334.0]\n",
      "19      (0.999, 334.0]\n",
      "20      (0.999, 334.0]\n",
      "21      (0.999, 334.0]\n",
      "22      (0.999, 334.0]\n",
      "23      (0.999, 334.0]\n",
      "24      (0.999, 334.0]\n",
      "25      (0.999, 334.0]\n",
      "26      (0.999, 334.0]\n",
      "27      (0.999, 334.0]\n",
      "28      (0.999, 334.0]\n",
      "29      (0.999, 334.0]\n",
      "            ...       \n",
      "970    (667.0, 1000.0]\n",
      "971    (667.0, 1000.0]\n",
      "972    (667.0, 1000.0]\n",
      "973    (667.0, 1000.0]\n",
      "974    (667.0, 1000.0]\n",
      "975    (667.0, 1000.0]\n",
      "976    (667.0, 1000.0]\n",
      "977    (667.0, 1000.0]\n",
      "978    (667.0, 1000.0]\n",
      "979    (667.0, 1000.0]\n",
      "980    (667.0, 1000.0]\n",
      "981    (667.0, 1000.0]\n",
      "982    (667.0, 1000.0]\n",
      "983    (667.0, 1000.0]\n",
      "984    (667.0, 1000.0]\n",
      "985    (667.0, 1000.0]\n",
      "986    (667.0, 1000.0]\n",
      "987    (667.0, 1000.0]\n",
      "988    (667.0, 1000.0]\n",
      "989    (667.0, 1000.0]\n",
      "990    (667.0, 1000.0]\n",
      "991    (667.0, 1000.0]\n",
      "992    (667.0, 1000.0]\n",
      "993    (667.0, 1000.0]\n",
      "994    (667.0, 1000.0]\n",
      "995    (667.0, 1000.0]\n",
      "996    (667.0, 1000.0]\n",
      "997    (667.0, 1000.0]\n",
      "998    (667.0, 1000.0]\n",
      "999    (667.0, 1000.0]\n",
      "Length: 1000, dtype: category\n",
      "Categories (3, interval[float64]): [(0.999, 334.0] < (334.0, 667.0] < (667.0, 1000.0]]\n",
      "(0.999, 334.0]     334\n",
      "(667.0, 1000.0]    333\n",
      "(334.0, 667.0]     333\n",
      "dtype: int64\n"
     ]
    }
   ],
   "source": [
    "price = [10.3, 5.5, 7.8, 3.6] # 데이터 범주화\n",
    "cut = [3, 7, 9, 11] # 구간 기준값\n",
    "re_cut = pd.cut(price, cut)\n",
    "print(re_cut)\n",
    "counter = pd.value_counts(re_cut)\n",
    "print(counter)\n",
    "print()\n",
    "\n",
    "data_df = Series(np.arange(1, 1001))\n",
    "print(data_df.tail())\n",
    "print()\n",
    "\n",
    "re_cut2 = pd.qcut(data_df, 3)\n",
    "print(re_cut2)\n",
    "print(pd.value_counts(re_cut2))"
   ]
  }
 ],
 "metadata": {
  "kernelspec": {
   "display_name": "Python 3",
   "language": "python",
   "name": "python3"
  },
  "language_info": {
   "codemirror_mode": {
    "name": "ipython",
    "version": 3
   },
   "file_extension": ".py",
   "mimetype": "text/x-python",
   "name": "python",
   "nbconvert_exporter": "python",
   "pygments_lexer": "ipython3",
   "version": "3.6.5"
  }
 },
 "nbformat": 4,
 "nbformat_minor": 2
}
