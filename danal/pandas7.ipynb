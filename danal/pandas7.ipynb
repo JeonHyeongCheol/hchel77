{
 "cells": [
  {
   "cell_type": "code",
   "execution_count": 3,
   "metadata": {},
   "outputs": [],
   "source": [
    "from pandas import Series, DataFrame\n",
    "import pandas as pd\n",
    "import numpy as np"
   ]
  },
  {
   "cell_type": "code",
   "execution_count": 13,
   "metadata": {},
   "outputs": [
    {
     "name": "stdout",
     "output_type": "stream",
     "text": [
      "  key1 key2     data1     data2\n",
      "0    a  one -0.655375  0.127457\n",
      "1    a  two -0.406215 -0.066002\n",
      "2    b  one  0.618677 -0.009811\n",
      "3    b  two  0.684661  0.805673\n",
      "4    a  one -2.237369 -0.363313\n",
      "key1\n",
      "a   -3.298960\n",
      "b    1.303338\n",
      "Name: data1, dtype: float64\n",
      "key1\n",
      "a   -1.099653\n",
      "b    0.651669\n",
      "Name: data1, dtype: float64\n",
      "\n",
      "key1  key2\n",
      "a     one    -1.446372\n",
      "      two    -0.406215\n",
      "b     one     0.618677\n",
      "      two     0.684661\n",
      "Name: data1, dtype: float64\n"
     ]
    }
   ],
   "source": [
    "df = DataFrame({'key1':['a', 'a', 'b', 'b', 'a'],\n",
    "               'key2':['one','two','one','two','one'],\n",
    "               'data1':np.random.randn(5),# 정규분포를 따르는 난수.\n",
    "               'data2':np.random.randn(5)})\n",
    "print(df)\n",
    "gr = df['data1'].groupby(df['key1']) # 객체생성. data1값을 key1의 그룹으로 묶어 출력.\n",
    "#print(gr)\n",
    "print(gr.sum())\n",
    "print(gr.mean())\n",
    "print()\n",
    "\n",
    "result = df['data1'].groupby([df['key1'], df['key2']]).mean() # 뒤에다가 바로 함수를 적어 출력 할 수 있음.\n",
    "print(result)\n",
    "\n"
   ]
  },
  {
   "cell_type": "code",
   "execution_count": 15,
   "metadata": {},
   "outputs": [
    {
     "name": "stdout",
     "output_type": "stream",
     "text": [
      "  city  year  pop\n",
      "0   강남  2000  3.3\n",
      "1   강북  2001  2.5\n",
      "2   강남  2002  3.0\n",
      "3   강북  2002  2.0\n"
     ]
    }
   ],
   "source": [
    "# pivot table : 데이터 열 중에서 두 개의 key를 사용하여 데이터를 선택하는 방법.\n",
    "data = {'city':['강남','강북','강남','강북'],\n",
    "       'year':[2000, 2001, 2002, 2002],\n",
    "        'pop':[3.3, 2.5, 3.0, 2.0]}\n",
    "df = pd.DataFrame(data) # 데이터프레임으로 바꿈.\n",
    "print(df)"
   ]
  },
  {
   "cell_type": "code",
   "execution_count": 21,
   "metadata": {},
   "outputs": [
    {
     "name": "stdout",
     "output_type": "stream",
     "text": [
      "year  2000  2001  2002\n",
      "city                  \n",
      "강남     3.3   NaN   3.0\n",
      "강북     NaN   2.5   2.0\n",
      "city   강남   강북\n",
      "year          \n",
      "2000  3.3  NaN\n",
      "2001  NaN  2.5\n",
      "2002  3.0  2.0\n",
      "\n",
      "      pop          \n",
      "year 2000 2001 2002\n",
      "city               \n",
      "강남    3.3  NaN  3.0\n",
      "강북    NaN  2.5  2.0\n",
      "      pop     \n",
      "city   강남   강북\n",
      "year          \n",
      "2000  3.3  NaN\n",
      "2001  NaN  2.5\n",
      "2002  3.0  2.0\n"
     ]
    }
   ],
   "source": [
    "print(df.pivot('city', 'year', 'pop')) # 행 : city, 열 : year, 연산 : pop\n",
    "print(df.pivot('year', 'city', 'pop'))\n",
    "print()\n",
    "\n",
    "print(df.set_index(['city', 'year']).unstack()) # pivot처럼 모양을 갖출 수 있음.\n",
    "print(df.set_index(['year', 'city']).unstack())"
   ]
  },
  {
   "cell_type": "code",
   "execution_count": 27,
   "metadata": {},
   "outputs": [
    {
     "name": "stdout",
     "output_type": "stream",
     "text": [
      "  city  year  pop\n",
      "0   강남  2000  3.3\n",
      "1   강북  2001  2.5\n",
      "2   강남  2002  3.0\n",
      "3   강북  2002  2.0\n",
      "       pop    year\n",
      "city              \n",
      "강남    3.15  2001.0\n",
      "강북    2.25  2001.5\n",
      "       pop    year\n",
      "city              \n",
      "강남    3.15  2001.0\n",
      "강북    2.25  2001.5\n",
      "           pop\n",
      "city year     \n",
      "강남   2000  3.3\n",
      "     2002  3.0\n",
      "강북   2001  2.5\n",
      "     2002  2.0\n",
      "           len  sum\n",
      "           pop  pop\n",
      "city year          \n",
      "강남   2000  1.0  3.3\n",
      "     2002  1.0  3.0\n",
      "강북   2001  1.0  2.5\n",
      "     2002  1.0  2.0\n"
     ]
    }
   ],
   "source": [
    "print(df)\n",
    "print(df.pivot_table(index=['city']))\n",
    "print(df.pivot_table(index=['city'], aggfunc=np.mean))\n",
    "print(df.pivot_table(index=['city', 'year'], aggfunc=np.mean)) # index에 있는 애들 제외한 나머지는 연산대상이 됨.\n",
    "print(df.pivot_table(index=['city', 'year'], aggfunc=[len, np.sum])) # list로 여러 연산을 한꺼번에 할 수 있음."
   ]
  },
  {
   "cell_type": "code",
   "execution_count": 36,
   "metadata": {},
   "outputs": [
    {
     "name": "stdout",
     "output_type": "stream",
     "text": [
      "       pop\n",
      "city      \n",
      "강남    3.15\n",
      "강북    2.25\n",
      "      pop\n",
      "city     \n",
      "강남    2.0\n",
      "강북    2.0\n",
      "\n",
      "      pop     \n",
      "city   강남   강북\n",
      "year          \n",
      "2000  3.3  NaN\n",
      "2001  NaN  2.5\n",
      "2002  3.0  2.0\n",
      "       pop           \n",
      "city    강남    강북  All\n",
      "year                 \n",
      "2000  3.30   NaN  3.3\n",
      "2001   NaN  2.50  2.5\n",
      "2002  3.00  2.00  2.5\n",
      "All   3.15  2.25  2.7\n",
      "       pop           \n",
      "city    강남    강북  All\n",
      "year                 \n",
      "2000  3.30  0.00  3.3\n",
      "2001  0.00  2.50  2.5\n",
      "2002  3.00  2.00  2.5\n",
      "All   3.15  2.25  2.7\n",
      "\n",
      "      year  pop\n",
      "city           \n",
      "강남    4002  6.3\n",
      "강북    4003  4.5\n",
      "           pop\n",
      "city year     \n",
      "강남   2000  3.3\n",
      "     2002  3.0\n",
      "강북   2001  2.5\n",
      "     2002  2.0\n"
     ]
    }
   ],
   "source": [
    "print(df.pivot_table(['pop'], index='city')) # 앞에 연산을 설정 할 수 있음. 여기서는 pop이 연산 대상\n",
    "print(df.pivot_table(['pop'], index='city', aggfunc=len))\n",
    "print()\n",
    "\n",
    "print(df.pivot_table(['pop'], index=['year'], columns=['city'])) # 위에서 그냥 pivot한 것과 동일.\n",
    "print(df.pivot_table(['pop'], index=['year'], columns=['city'], margins=True)) # margins : 행과 열에 대한 값을 출력.\n",
    "print(df.pivot_table(['pop'], index=['year'], columns=['city'], margins=True, fill_value=0)) # NaN값을 0으로 채움.\n",
    "print()\n",
    "\n",
    "print(df.groupby(['city']).sum()) # groupby로 묶어 합을 출력.\n",
    "print(df.groupby(['city', 'year']).sum())"
   ]
  },
  {
   "cell_type": "code",
   "execution_count": 42,
   "metadata": {},
   "outputs": [
    {
     "name": "stdout",
     "output_type": "stream",
     "text": [
      "   resident  gender  age  level  pass\n",
      "0         1       1   50      1     2\n",
      "1         2       1   54      2     2\n",
      "2         5       1   51      1     1\n",
      "   resident  gender  age  level  pass\n",
      "0         1       1   50      1     2\n",
      "1         2       1   54      2     2\n",
      "2         5       1   51      1     1\n",
      "gender     1  2\n",
      "resident       \n",
      "1         13  4\n",
      "2          8  5\n",
      "3          4  1\n",
      "4          1  1\n",
      "5          3  0\n",
      "level             1  2  3\n",
      "resident gender          \n",
      "1        1       11  1  1\n",
      "         2        0  4  0\n",
      "2        1        3  5  0\n",
      "         2        2  1  2\n",
      "3        1        2  2  0\n",
      "         2        0  1  0\n",
      "4        1        0  1  0\n",
      "         2        1  0  0\n",
      "5        1        1  2  0\n"
     ]
    }
   ],
   "source": [
    "des = pd.read_csv('testdata/descriptive.csv')\n",
    "#print(des.info()) # 컬럼 정보\n",
    "data = des[['resident', 'gender', 'age', 'level', 'pass']]\n",
    "print(data.head(3))\n",
    "print(data[:3])\n",
    "table = pd.crosstab(data.resident, data.gender)\n",
    "print(table)\n",
    "table2 = pd.crosstab([data.resident, data.gender], data.level)\n",
    "print(table2)"
   ]
  }
 ],
 "metadata": {
  "kernelspec": {
   "display_name": "Python 3",
   "language": "python",
   "name": "python3"
  },
  "language_info": {
   "codemirror_mode": {
    "name": "ipython",
    "version": 3
   },
   "file_extension": ".py",
   "mimetype": "text/x-python",
   "name": "python",
   "nbconvert_exporter": "python",
   "pygments_lexer": "ipython3",
   "version": "3.6.5"
  }
 },
 "nbformat": 4,
 "nbformat_minor": 2
}
