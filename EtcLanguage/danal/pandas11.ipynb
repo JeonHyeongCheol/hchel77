{
 "cells": [
  {
   "cell_type": "code",
   "execution_count": 9,
   "metadata": {},
   "outputs": [],
   "source": [
    "import MySQLdb\n",
    "import pandas as pd\n",
    "import csv"
   ]
  },
  {
   "cell_type": "code",
   "execution_count": 5,
   "metadata": {},
   "outputs": [],
   "source": [
    "config = {\n",
    "    'host':'127.0.0.1',\n",
    "    'user':'root',\n",
    "    'password':'123',\n",
    "    'database':'test',\n",
    "    'port':3306,\n",
    "    'charset':'utf8',\n",
    "    'use_unicode':True\n",
    "}"
   ]
  },
  {
   "cell_type": "code",
   "execution_count": 12,
   "metadata": {},
   "outputs": [
    {
     "name": "stdout",
     "output_type": "stream",
     "text": [
      "1 장갑 3 10000\n",
      "2 실장갑 77 12000\n",
      "3 가죽장갑 10 50000\n",
      "4 가죽점퍼 5 650000\n",
      "6 칙촉 10 500\n",
      "7 자바기초 5 25000\n",
      "8 파이썬응용 7 35000\n",
      "9 오라클활용 11 22000\n",
      "   code   sang  su     dan\n",
      "0     1     장갑   3   10000\n",
      "1     2    실장갑  77   12000\n",
      "2     3   가죽장갑  10   50000\n",
      "3     4   가죽점퍼   5  650000\n",
      "4     6     칙촉  10     500\n",
      "5     7   자바기초   5   25000\n",
      "6     8  파이썬응용   7   35000\n",
      "7     9  오라클활용  11   22000\n",
      "\n",
      "   code  sang  su     dan\n",
      "0     1    장갑   3   10000\n",
      "1     2   실장갑  77   12000\n",
      "2     3  가죽장갑  10   50000\n",
      "3     4  가죽점퍼   5  650000\n",
      "가죽점퍼    1\n",
      "가죽장갑    1\n",
      "실장갑     1\n",
      "장갑      1\n",
      "Name: sang, dtype: int64\n",
      "['장갑' '실장갑' '가죽장갑' '가죽점퍼']\n",
      "          0      1      2       3\n",
      "code      1      2      3       4\n",
      "sang     장갑    실장갑   가죽장갑    가죽점퍼\n",
      "su        3     77     10       5\n",
      "dan   10000  12000  50000  650000\n",
      "           code         su            dan\n",
      "count  4.000000   4.000000       4.000000\n",
      "mean   2.500000  23.750000  180500.000000\n",
      "std    1.290994  35.621857  313540.534328\n",
      "min    1.000000   3.000000   10000.000000\n",
      "25%    1.750000   4.500000   11500.000000\n",
      "50%    2.500000   7.500000   31000.000000\n",
      "75%    3.250000  26.750000  200000.000000\n",
      "max    4.000000  77.000000  650000.000000\n"
     ]
    }
   ],
   "source": [
    "try:\n",
    "    conn = MySQLdb.connect(**config)\n",
    "    cursor = conn.cursor()\n",
    "    \n",
    "    sql = \"select code, sang, su, dan from sangdata\"\n",
    "    cursor.execute(sql)\n",
    "    \n",
    "    for(code, sang, su, dan) in cursor:\n",
    "        print(code, sang, su, dan)\n",
    "    \n",
    "    # remote db의 sangdata table을 파일로 저장.\n",
    "    with open('sang.csv', 'w', encoding=\"utf-8\") as f:\n",
    "        writer = csv.writer(f)\n",
    "        for row in cursor:\n",
    "            writer.writerow(row)\n",
    "    \n",
    "    # 읽기\n",
    "    df = pd.read_csv('sang.csv', header=None, names=('code', 'sang', 'su', 'dan'))\n",
    "    print(df)\n",
    "    \n",
    "    print()\n",
    "    df2 = pd.read_sql(\"select * from sangdata where code <= 5\", conn)\n",
    "    print(df2)\n",
    "    print(df2['sang'].value_counts())\n",
    "    print(df2['sang'].unique())\n",
    "    print(df2.transpose())\n",
    "    print(df2.describe())\n",
    "    \n",
    "except Exception as err:\n",
    "    print('Err : ', err)"
   ]
  }
 ],
 "metadata": {
  "kernelspec": {
   "display_name": "Python 3",
   "language": "python",
   "name": "python3"
  },
  "language_info": {
   "codemirror_mode": {
    "name": "ipython",
    "version": 3
   },
   "file_extension": ".py",
   "mimetype": "text/x-python",
   "name": "python",
   "nbconvert_exporter": "python",
   "pygments_lexer": "ipython3",
   "version": "3.6.5"
  }
 },
 "nbformat": 4,
 "nbformat_minor": 2
}
