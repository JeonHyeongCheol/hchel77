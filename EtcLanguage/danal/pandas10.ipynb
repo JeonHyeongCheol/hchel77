{
 "cells": [
  {
   "cell_type": "code",
   "execution_count": 1,
   "metadata": {},
   "outputs": [],
   "source": [
    "import sqlite3\n",
    "import pandas as pd"
   ]
  },
  {
   "cell_type": "code",
   "execution_count": 2,
   "metadata": {},
   "outputs": [],
   "source": [
    "sql = \"create table test(product varchar(10), maker varchar(10), weight real, price integer)\"\n",
    "conn = sqlite3.connect(\":memory:\")\n",
    "conn.execute(sql)\n",
    "conn.commit()"
   ]
  },
  {
   "cell_type": "code",
   "execution_count": 3,
   "metadata": {},
   "outputs": [
    {
     "name": "stdout",
     "output_type": "stream",
     "text": [
      "('mouse', 'samsung', 12.5, 5000)   ('keyboard', 'lg', 50.5, 35000)\n",
      "mouse\n"
     ]
    }
   ],
   "source": [
    "data = [('mouse', 'samsung', 12.5, 5000), ('keyboard', 'lg', 50.5, 35000)]\n",
    "stmt = 'insert into test values(?,?,?,?)'\n",
    "conn.executemany(stmt, data) # stmt안에 data에 있는 값을 넣어 sql에 넣어줌.\n",
    "conn.commit()\n",
    "\n",
    "cursor = conn.execute(\"select * from test\")\n",
    "rows = cursor.fetchall()\n",
    "print(rows[0], ' ', rows[1])\n",
    "print(rows[0][0])"
   ]
  },
  {
   "cell_type": "code",
   "execution_count": 5,
   "metadata": {},
   "outputs": [
    {
     "name": "stdout",
     "output_type": "stream",
     "text": [
      "    product    maker  weight  price\n",
      "0     mouse  samsung    12.5   5000\n",
      "1  keyboard       lg    50.5  35000\n"
     ]
    }
   ],
   "source": [
    "df1 = pd.DataFrame(rows, columns=list(zip(*cursor.description))[0]) # DataFrame 생성자 사용해 읽어오기\n",
    "print(df1)"
   ]
  },
  {
   "cell_type": "code",
   "execution_count": 8,
   "metadata": {},
   "outputs": [
    {
     "name": "stdout",
     "output_type": "stream",
     "text": [
      "    product    maker  weight  price\n",
      "0     mouse  samsung    12.5   5000\n",
      "1  keyboard       lg    50.5  35000\n"
     ]
    }
   ],
   "source": [
    "df2 = pd.read_sql(\"select * from test\", conn) # 기본 sql문장으로 읽어 가져오기.\n",
    "print(df2)\n",
    "cursor.close()\n",
    "conn.close()"
   ]
  }
 ],
 "metadata": {
  "kernelspec": {
   "display_name": "Python 3",
   "language": "python",
   "name": "python3"
  },
  "language_info": {
   "codemirror_mode": {
    "name": "ipython",
    "version": 3
   },
   "file_extension": ".py",
   "mimetype": "text/x-python",
   "name": "python",
   "nbconvert_exporter": "python",
   "pygments_lexer": "ipython3",
   "version": "3.6.5"
  }
 },
 "nbformat": 4,
 "nbformat_minor": 2
}
