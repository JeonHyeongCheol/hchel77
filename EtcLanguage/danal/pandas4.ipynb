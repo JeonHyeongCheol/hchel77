{
 "cells": [
  {
   "cell_type": "code",
   "execution_count": 2,
   "metadata": {},
   "outputs": [
    {
     "name": "stdout",
     "output_type": "stream",
     "text": [
      "a     6\n",
      "b     8\n",
      "c    10\n",
      "d    12\n",
      "dtype: int64\n",
      "a     5\n",
      "b    12\n",
      "c    21\n",
      "d    32\n",
      "dtype: int64\n"
     ]
    }
   ],
   "source": [
    "from pandas import Series, DataFrame\n",
    "import numpy as np\n",
    "s1 = Series([1,2,3,4], index=['a', 'b', 'c', 'd'])\n",
    "s2 = Series([5,6,7,8], index=['a', 'b', 'c', 'd'])\n",
    "print(s1 + s2) # 동일 인덱스 간 연산. 불일치 시 NaN\n",
    "print(s1 * s2)"
   ]
  },
  {
   "cell_type": "code",
   "execution_count": 6,
   "metadata": {},
   "outputs": [
    {
     "name": "stdout",
     "output_type": "stream",
     "text": [
      "    a  b  c\n",
      "서울  0  1  2\n",
      "대전  3  4  5\n",
      "부산  6  7  8\n",
      "    a   b   c\n",
      "서울  0   1   2\n",
      "대전  3   4   5\n",
      "제주  6   7   8\n",
      "수원  9  10  11\n",
      "      a    b     c\n",
      "대전  6.0  8.0  10.0\n",
      "부산  NaN  NaN   NaN\n",
      "서울  0.0  2.0   4.0\n",
      "수원  NaN  NaN   NaN\n",
      "제주  NaN  NaN   NaN\n",
      "      a    b     c\n",
      "대전  6.0  8.0  10.0\n",
      "부산  NaN  NaN   NaN\n",
      "서울  0.0  2.0   4.0\n",
      "수원  NaN  NaN   NaN\n",
      "제주  NaN  NaN   NaN\n",
      "      a     b     c\n",
      "대전  6.0   8.0  10.0\n",
      "부산  6.0   7.0   8.0\n",
      "서울  0.0   2.0   4.0\n",
      "수원  9.0  10.0  11.0\n",
      "제주  6.0   7.0   8.0\n",
      "      a     b     c\n",
      "대전  9.0  16.0  25.0\n",
      "부산  0.0   0.0   0.0\n",
      "서울  0.0   1.0   4.0\n",
      "수원  0.0   0.0   0.0\n",
      "제주  0.0   0.0   0.0\n",
      "\n",
      "a    0\n",
      "b    1\n",
      "c    2\n",
      "Name: 서울, dtype: int32\n",
      "    a  b  c\n",
      "서울  0  0  0\n",
      "대전  3  3  3\n",
      "부산  6  6  6\n"
     ]
    }
   ],
   "source": [
    "col = ['a', 'b', 'c']\n",
    "df1 = DataFrame(np.arange(9).reshape(3,3), columns=col, index = ['서울', '대전', '부산'])\n",
    "df2= DataFrame(np.arange(12).reshape(4,3), columns=col, index = ['서울', '대전', '제주', '수원'])\n",
    "\n",
    "print(df1)\n",
    "print(df2)\n",
    "print(df1 + df2)\n",
    "print(df1.add(df2))\n",
    "print(df1.add(df2, fill_value = 0))\n",
    "print(df1.mul(df2, fill_value = 0))\n",
    "print()\n",
    "\n",
    "ser = df1.iloc[0]\n",
    "print(ser)\n",
    "print(df1 - ser)"
   ]
  }
 ],
 "metadata": {
  "kernelspec": {
   "display_name": "Python 3",
   "language": "python",
   "name": "python3"
  },
  "language_info": {
   "codemirror_mode": {
    "name": "ipython",
    "version": 3
   },
   "file_extension": ".py",
   "mimetype": "text/x-python",
   "name": "python",
   "nbconvert_exporter": "python",
   "pygments_lexer": "ipython3",
   "version": "3.6.5"
  }
 },
 "nbformat": 4,
 "nbformat_minor": 2
}
