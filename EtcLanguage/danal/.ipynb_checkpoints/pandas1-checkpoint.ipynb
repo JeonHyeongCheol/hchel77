{
 "cells": [
  {
   "cell_type": "code",
   "execution_count": 1,
   "metadata": {},
   "outputs": [],
   "source": [
    "from pandas import Series # 색인 기능"
   ]
  },
  {
   "cell_type": "code",
   "execution_count": 8,
   "metadata": {},
   "outputs": [
    {
     "name": "stdout",
     "output_type": "stream",
     "text": [
      "0    3\n",
      "1    7\n",
      "2   -5\n",
      "3    4\n",
      "dtype: int64 <class 'pandas.core.series.Series'>\n",
      "a    3\n",
      "b    7\n",
      "c   -5\n",
      "d    4\n",
      "dtype: int64 <class 'pandas.core.series.Series'>\n",
      "9 2.25 5.123475382979799\n",
      "Index(['a', 'b', 'c', 'd'], dtype='object')\n",
      "[ 3  7 -5  4]\n",
      "3\n"
     ]
    }
   ],
   "source": [
    "#obj = Series([3, 7, -5, '4']) \n",
    "obj = Series([3, 7, -5, 4]) # [], () : O, {} : X(Set 타입 안됨.)\n",
    "print(obj, type(obj))\n",
    "obj2 = Series([3, 7, -5, 4], index = ['a', 'b', 'c', 'd'])\n",
    "print(obj2, type(obj2))\n",
    "print(obj2.sum(), obj2.mean(), obj2.std())\n",
    "print(obj2.index)\n",
    "print(obj2.values)\n",
    "print(obj2['a'])"
   ]
  },
  {
   "cell_type": "code",
   "execution_count": 11,
   "metadata": {},
   "outputs": [
    {
     "name": "stdout",
     "output_type": "stream",
     "text": [
      "mouse        12000\n",
      "keyboard     25000\n",
      "mornitor    450000\n",
      "dtype: int64\n",
      " 상품명\n",
      "마우스     12000\n",
      "키보드     25000\n",
      "모니터    450000\n",
      "Name: 상품정보, dtype: int64\n"
     ]
    }
   ],
   "source": [
    "names = {'mouse':12000, 'keyboard':25000, 'mornitor':450000}\n",
    "obj3 = Series(names)\n",
    "print(obj3)\n",
    "obj3.index = ['마우스', '키보드', '모니터']\n",
    "obj3.name = \"상품정보\"\n",
    "obj3.index.name = \" 상품명\"\n",
    "print(obj3)"
   ]
  },
  {
   "cell_type": "code",
   "execution_count": 15,
   "metadata": {},
   "outputs": [
    {
     "name": "stdout",
     "output_type": "stream",
     "text": [
      "{'irum': ['홍길동', '고길동', '신기해', '공기밥'], 'juso': ['역삼동', '삼성동', '하계동', '방배동'], 'nai': [22, 24, 38, 28]} <class 'dict'>\n",
      "  irum juso  nai\n",
      "0  홍길동  역삼동   22\n",
      "1  고길동  삼성동   24\n",
      "2  신기해  하계동   38\n",
      "3  공기밥  방배동   28 <class 'pandas.core.frame.DataFrame'>\n",
      "0    홍길동\n",
      "1    고길동\n",
      "2    신기해\n",
      "3    공기밥\n",
      "Name: irum, dtype: object\n",
      "0    홍길동\n",
      "1    고길동\n",
      "2    신기해\n",
      "3    공기밥\n",
      "Name: irum, dtype: object <class 'pandas.core.series.Series'>\n",
      "  juso irum  nai\n",
      "0  역삼동  홍길동   22\n",
      "1  삼성동  고길동   24\n",
      "2  하계동  신기해   38\n",
      "3  방배동  공기밥   28\n"
     ]
    }
   ],
   "source": [
    "from pandas import DataFrame\n",
    "data = {\n",
    "    'irum' : ['홍길동', '고길동', '신기해', '공기밥'],\n",
    "    'juso' : ['역삼동', '삼성동', '하계동', '방배동'],\n",
    "    'nai' : [22, 24, 38, 28]\n",
    "}\n",
    "\n",
    "print(data, type(data))\n",
    "\n",
    "frame = DataFrame(data)\n",
    "print(frame, type(frame))\n",
    "print(frame['irum'])\n",
    "print(frame.irum, type(frame.irum))\n",
    "print(DataFrame(data, columns=['juso', 'irum', 'nai']))"
   ]
  },
  {
   "cell_type": "code",
   "execution_count": 25,
   "metadata": {},
   "outputs": [
    {
     "name": "stdout",
     "output_type": "stream",
     "text": [
      "  irum  nai juso junhwa\n",
      "a  홍길동   22  역삼동    NaN\n",
      "b  고길동   24  삼성동    NaN\n",
      "c  신기해   38  하계동    NaN\n",
      "d  공기밥   28  방배동    NaN\n",
      "  irum  nai juso         junhwa\n",
      "a  홍길동   22  역삼동  010-1111-1111\n",
      "b  고길동   24  삼성동  010-1111-1111\n",
      "c  신기해   38  하계동  010-1111-1111\n",
      "d  공기밥   28  방배동  010-1111-1111\n",
      "  irum  nai juso         junhwa\n",
      "a  홍길동   22  역삼동  010-1111-1111\n",
      "b  고길동   24  삼성동  010-1111-1111\n",
      "c  신기해   38  하계동  010-1111-1111\n",
      "d  공기밥   28  방배동  010-1111-1111\n"
     ]
    }
   ],
   "source": [
    "frame2 = DataFrame(data, columns=['irum', 'nai', 'juso', 'junhwa'], index=['a', 'b', 'c', 'd'])\n",
    "print(frame2)\n",
    "frame2['junhwa'] = '010-1111-1111'\n",
    "print(frame2)\n",
    "jun_val = Series(['111-2345', '222-2222', '333-3333', '444-4444'], index = ['a', 'b', 'c', 'e'])\n",
    "frame['junhwa'] = jun_val\n",
    "print(frame2)"
   ]
  },
  {
   "cell_type": "code",
   "execution_count": 26,
   "metadata": {},
   "outputs": [
    {
     "name": "stdout",
     "output_type": "stream",
     "text": [
      "                    a              b              c              d\n",
      "irum              홍길동            고길동            신기해            공기밥\n",
      "nai                22             24             38             28\n",
      "juso              역삼동            삼성동            하계동            방배동\n",
      "junhwa  010-1111-1111  010-1111-1111  010-1111-1111  010-1111-1111\n",
      "[['홍길동' 22 '역삼동' '010-1111-1111']\n",
      " ['고길동' 24 '삼성동' '010-1111-1111']\n",
      " ['신기해' 38 '하계동' '010-1111-1111']\n",
      " ['공기밥' 28 '방배동' '010-1111-1111']]\n",
      "역삼동\n",
      "\n",
      "  irum  nai juso         junhwa\n",
      "a  홍길동   22  역삼동  010-1111-1111\n",
      "b  고길동   24  삼성동  010-1111-1111\n",
      "c  신기해   38  하계동  010-1111-1111\n"
     ]
    }
   ],
   "source": [
    "print(frame2.T)\n",
    "print(frame2.values) # array로 뽑을 수 있음.\n",
    "print(frame2.values[0,2]) \n",
    "print()\n",
    "\n",
    "frame3 = frame2.drop('d')\n",
    "#frame3 = frame2.drop('d', axis = 0)\n",
    "frame4 = frame3.drop('junhwa', axis = 1) # 행날리기\n",
    "print(frame3)"
   ]
  },
  {
   "cell_type": "code",
   "execution_count": 29,
   "metadata": {},
   "outputs": [
    {
     "name": "stdout",
     "output_type": "stream",
     "text": [
      "  irum  nai juso         junhwa\n",
      "a  홍길동   22  역삼동  010-1111-1111\n",
      "b  고길동   24  삼성동  010-1111-1111\n",
      "c  신기해   38  하계동  010-1111-1111\n",
      "  irum  nai juso         junhwa\n",
      "c  신기해   38  하계동  010-1111-1111\n",
      "b  고길동   24  삼성동  010-1111-1111\n",
      "a  홍길동   22  역삼동  010-1111-1111\n",
      "  irum         junhwa juso  nai\n",
      "a  홍길동  010-1111-1111  역삼동   22\n",
      "b  고길동  010-1111-1111  삼성동   24\n",
      "c  신기해  010-1111-1111  하계동   38\n",
      "   irum  nai  juso  junhwa\n",
      "a   3.0  1.0   2.0     2.0\n",
      "b   1.0  2.0   1.0     2.0\n",
      "c   2.0  3.0   3.0     2.0\n",
      "\n",
      "a    홍길동\n",
      "b    고길동\n",
      "Name: irum, dtype: object\n",
      "a    홍길동\n",
      "b    고길동\n",
      "Name: irum, dtype: object\n",
      "삼성동    1\n",
      "하계동    1\n",
      "역삼동    1\n",
      "방배동    1\n",
      "Name: juso, dtype: int64\n"
     ]
    }
   ],
   "source": [
    "print(frame3)\n",
    "print(frame3.sort_index(axis=0, ascending=False))\n",
    "print(frame3.sort_index(axis=1, ascending=True))\n",
    "print(frame3.rank(axis=0))\n",
    "print()\n",
    "\n",
    "print(frame3['irum'][:2])\n",
    "print(frame3.irum[:2])\n",
    "cnt = frame['juso'].value_counts()\n",
    "print(cnt)"
   ]
  },
  {
   "cell_type": "code",
   "execution_count": 33,
   "metadata": {},
   "outputs": [
    {
     "name": "stdout",
     "output_type": "stream",
     "text": [
      "      juso  inwon\n",
      "0  강남구 역삼동     23\n",
      "1   중구 신당동     25\n",
      "2  강남구 대치동     11\n",
      "0    강남구\n",
      "1     중구\n",
      "2    강남구\n",
      "dtype: object   강남구    2\n",
      "중구     1\n",
      "dtype: int64\n",
      "0    역삼동\n",
      "1    신당동\n",
      "2    대치동\n",
      "dtype: object\n"
     ]
    }
   ],
   "source": [
    "data = {\n",
    "    'juso':['강남구 역삼동', '중구 신당동', '강남구 대치동'],\n",
    "    'inwon':[23, 25, 11]\n",
    "}\n",
    "\n",
    "frame = DataFrame(data)\n",
    "print(frame)\n",
    "results = Series([x.split()[0] for x in frame.juso])\n",
    "print(results, ' ', results.value_counts())\n",
    "results2 = Series([x.split()[1] for x in frame.juso])\n",
    "print(results2)"
   ]
  }
 ],
 "metadata": {
  "kernelspec": {
   "display_name": "Python 3",
   "language": "python",
   "name": "python3"
  },
  "language_info": {
   "codemirror_mode": {
    "name": "ipython",
    "version": 3
   },
   "file_extension": ".py",
   "mimetype": "text/x-python",
   "name": "python",
   "nbconvert_exporter": "python",
   "pygments_lexer": "ipython3",
   "version": "3.6.5"
  }
 },
 "nbformat": 4,
 "nbformat_minor": 2
}
