{
 "cells": [
  {
   "cell_type": "code",
   "execution_count": 1,
   "metadata": {},
   "outputs": [],
   "source": [
    "# Obtaining standard Deviation\n",
    "grades = [1,3,-2,4]"
   ]
  },
  {
   "cell_type": "code",
   "execution_count": 2,
   "metadata": {},
   "outputs": [
    {
     "name": "stdout",
     "output_type": "stream",
     "text": [
      "1 3 -2 4 "
     ]
    }
   ],
   "source": [
    "def show_grades(grades):\n",
    "    for g in grades:\n",
    "        print(g, end=' ')\n",
    "        \n",
    "\n",
    "show_grades(grades)"
   ]
  },
  {
   "cell_type": "code",
   "execution_count": 3,
   "metadata": {},
   "outputs": [
    {
     "name": "stdout",
     "output_type": "stream",
     "text": [
      "합은 6\n"
     ]
    }
   ],
   "source": [
    "def grades_sum(grades):\n",
    "    tot = 0\n",
    "    for g in grades:\n",
    "        tot += g\n",
    "    return tot\n",
    "\n",
    "\n",
    "print(\"합은 \" + str(grades_sum(grades)))"
   ]
  },
  {
   "cell_type": "code",
   "execution_count": 4,
   "metadata": {},
   "outputs": [
    {
     "name": "stdout",
     "output_type": "stream",
     "text": [
      "평균은  1.5\n"
     ]
    }
   ],
   "source": [
    "def grades_ave(grades):\n",
    "    tot = grades_sum(grades)\n",
    "    ave = tot / len(grades)\n",
    "    return ave\n",
    "\n",
    "print ('평균은 ', grades_ave(grades))"
   ]
  },
  {
   "cell_type": "code",
   "execution_count": 8,
   "metadata": {},
   "outputs": [
    {
     "name": "stdout",
     "output_type": "stream",
     "text": [
      "분산 5.25\n"
     ]
    }
   ],
   "source": [
    "def grades_variance(grades):\n",
    "    ave = grades_ave(grades)\n",
    "    vari = 0\n",
    "    for su in grades:\n",
    "        vari += (su - ave) ** 2\n",
    "    return vari / len(grades)\n",
    "    \n",
    "print(\"분산\", grades_variance(grades))"
   ]
  },
  {
   "cell_type": "code",
   "execution_count": 9,
   "metadata": {},
   "outputs": [
    {
     "name": "stdout",
     "output_type": "stream",
     "text": [
      "표준편차 :  2.29128784747792\n"
     ]
    }
   ],
   "source": [
    "import math\n",
    "def grades_std(grades):\n",
    "    #return grades_variance(grades) ** 0.5 # 루트 없으니 0.5\n",
    "    return math.sqrt(grades_variance(grades))\n",
    "\n",
    "print(\"표준편차 : \" , grades_std(grades))"
   ]
  },
  {
   "cell_type": "code",
   "execution_count": 11,
   "metadata": {},
   "outputs": [
    {
     "name": "stdout",
     "output_type": "stream",
     "text": [
      "합은  6\n",
      "평균은  1.5\n",
      "분산은  5.25\n",
      "표준편차는  2.29128784747792\n"
     ]
    }
   ],
   "source": [
    "# 내장함수\n",
    "import numpy as np\n",
    "print(\"합은 \", np.sum(grades))\n",
    "print(\"평균은 \", np.mean(grades))\n",
    "print(\"분산은 \", np.var(grades))\n",
    "print(\"표준편차는 \", np.std(grades))"
   ]
  }
 ],
 "metadata": {
  "kernelspec": {
   "display_name": "Python 3",
   "language": "python",
   "name": "python3"
  },
  "language_info": {
   "codemirror_mode": {
    "name": "ipython",
    "version": 3
   },
   "file_extension": ".py",
   "mimetype": "text/x-python",
   "name": "python",
   "nbconvert_exporter": "python",
   "pygments_lexer": "ipython3",
   "version": "3.6.5"
  }
 },
 "nbformat": 4,
 "nbformat_minor": 2
}
