{
 "cells": [
  {
   "cell_type": "code",
   "execution_count": 2,
   "metadata": {},
   "outputs": [],
   "source": [
    "import numpy as np"
   ]
  },
  {
   "cell_type": "code",
   "execution_count": 4,
   "metadata": {},
   "outputs": [
    {
     "name": "stdout",
     "output_type": "stream",
     "text": [
      "['tom', 'james', 'oscar'] <class 'list'>\n",
      "['tom' 'james' 'oscar'] <class 'numpy.ndarray'>\n"
     ]
    }
   ],
   "source": [
    "ss = ['tom', 'james', 'oscar']\n",
    "print(ss, type(ss))\n",
    "ss2 = np.array(ss)\n",
    "print(ss2, type(ss2))"
   ]
  },
  {
   "cell_type": "code",
   "execution_count": 11,
   "metadata": {},
   "outputs": [
    {
     "name": "stdout",
     "output_type": "stream",
     "text": [
      "[1, 2, 3, 4, 5, 6, 7, 8, 9]\n",
      "1768254528 1768254560\n",
      "----------\n",
      "[1 2 3 4 5 6 7 8 9]\n",
      "86992936 86992936\n",
      "[10 20 30 40 50 60 70 80 90]\n"
     ]
    }
   ],
   "source": [
    "# 메모리 비교\n",
    "li = list(range(1,10)) # 각각의 요소가 메모리를 잡고 있음.\n",
    "print(li)\n",
    "print(id(li[0]), id(li[1])) # 각각의 메모리 공간 차지.\n",
    "print('-' * 10)\n",
    "num_arr = np.array(li)\n",
    "print(num_arr)\n",
    "print(id(num_arr[0]), id(num_arr[1])) # 따로 하나만 가지고 있음.\n",
    "print(num_arr * 10)"
   ]
  },
  {
   "cell_type": "code",
   "execution_count": 15,
   "metadata": {},
   "outputs": [
    {
     "name": "stdout",
     "output_type": "stream",
     "text": [
      "[1 2 3]\n",
      "<class 'numpy.ndarray'> int32 (3,) 1 3\n",
      "1 3\n",
      "[7 2 3]\n"
     ]
    }
   ],
   "source": [
    "#a = np.array([1,2,'3']) # 다른 타입으로 들어가면 우선순위가 높은 애 타입으로 들어감. 여기서는 전부 문자열로 바뀜.\n",
    "a = np.array([1,2,3])\n",
    "print(a)\n",
    "print(type(a), a.dtype, a.shape, a.ndim, a.size) # type, type(tuple), 차원, 요소\n",
    "print(a[0], a[2])\n",
    "a[0] = 7 # 새로운 값으로 대체\n",
    "print(a)"
   ]
  },
  {
   "cell_type": "code",
   "execution_count": 30,
   "metadata": {},
   "outputs": [
    {
     "name": "stdout",
     "output_type": "stream",
     "text": [
      "[[1 2 3]\n",
      " [4 5 6]]   (2, 3)\n",
      "1 4\n",
      "[1 2 3]\n",
      "[[1 2 3]]\n",
      "\n",
      "[[0. 0.]\n",
      " [0. 0.]]\n",
      "[[1. 1.]\n",
      " [1. 1.]]\n",
      "[[7 7]\n",
      " [7 7]]\n",
      "[[1. 0. 0.]\n",
      " [0. 1. 0.]\n",
      " [0. 0. 1.]]\n",
      "\n",
      "[0.1464068  0.16243584 0.18800756 0.18937025 0.91643658]\n"
     ]
    }
   ],
   "source": [
    "b = np.array([[1,2,3],[4,5,6]])\n",
    "print(b, ' ', b.shape) # 배열이 몇 행 몇 열인지 알려줌.\n",
    "print(b[0,0], b[1,0])\n",
    "print(b[0])\n",
    "print(b[[0]])\n",
    "print()\n",
    "\n",
    "a = np.zeros((2, 2)) # 배열에 값을 전부 0으로 채움.\n",
    "print(a)\n",
    "b = np.ones((2, 2))\n",
    "print(b)\n",
    "c = np.full((2, 2), 7) # 값을 7로 채워줌.\n",
    "print(c)\n",
    "d = np.eye(3) # 대각선 방향으로 값을 채워줌.\n",
    "print(d)\n",
    "print()"
   ]
  },
  {
   "cell_type": "code",
   "execution_count": 34,
   "metadata": {},
   "outputs": [
    {
     "name": "stdout",
     "output_type": "stream",
     "text": [
      "[0.67273793 0.322497   0.71370962 0.04798135 0.84272442]\n",
      "[[0.67942787 0.28776241]\n",
      " [0.31034468 0.8140179 ]]\n",
      "\n",
      "[1, 2, 3, 4, 5, 6, 7, 8, 9]\n",
      "[0 1 2 3 4 5 6 7 8 9]\n",
      "{0: -0.28954290392235915, 1: -2.2919797623624314, 2: -0.46749522021216233, 3: -1.74221554122326, 4: -0.12180255501341893}\n"
     ]
    }
   ],
   "source": [
    "print(np.random.rand(5)) # 0 ~ 1사이에 난수를 5개 뽑음.\n",
    "print(np.random.rand(2, 2)) # 2행 2열 배열로 만들어줌.\n",
    "print()\n",
    "\n",
    "print(list(range(1,10)))\n",
    "print(np.arange(10)) # 등차수열\n",
    "e = {i:np.random.randn() for i in range(5)} # dict 타입으로 만들수 있음. # randn()는 정규분포를 따름. 평균값을 기준으로 좌우대칭으로..!!\n",
    "print(e)"
   ]
  },
  {
   "cell_type": "code",
   "execution_count": 37,
   "metadata": {},
   "outputs": [
    {
     "name": "stdout",
     "output_type": "stream",
     "text": [
      "[1 2 3 4 5]\n",
      "[2 4]\n",
      "\n",
      "[[ 1  2  3  4]\n",
      " [ 5  6  7  8]\n",
      " [ 9 10 11 12]]\n",
      "[[ 9 10 11 12]]\n",
      "[[ 5  6]\n",
      " [ 9 10]]\n",
      "\n",
      "[[2 3]\n",
      " [6 7]]\n",
      "[[77  3]\n",
      " [ 6  7]]\n",
      "[[ 1 77  3  4]\n",
      " [ 5  6  7  8]\n",
      " [ 9 10 11 12]]\n"
     ]
    }
   ],
   "source": [
    "# 슬라이싱.\n",
    "a = np.array([1,2,3,4,5])\n",
    "print(a)\n",
    "print(a[1:5:2])\n",
    "print()\n",
    "\n",
    "a = np.array([[1,2,3,4],[5,6,7,8],[9,10,11,12]])\n",
    "print(a)\n",
    "#print(a[:])\n",
    "print(a[2:]) # 2행만.\n",
    "print(a[1:, 0:2]) # 1행에 0~1열만 출력.\n",
    "print()\n",
    "\n",
    "b = a[:2, 1:3] # 1행까지 1~2열 출력.\n",
    "print(b)\n",
    "\n",
    "b[0,0] = 77 # a를 바꾸나 b를 바꾸나 다 바뀜.\n",
    "print(b)\n",
    "print(a)"
   ]
  }
 ],
 "metadata": {
  "kernelspec": {
   "display_name": "Python 3",
   "language": "python",
   "name": "python3"
  },
  "language_info": {
   "codemirror_mode": {
    "name": "ipython",
    "version": 3
   },
   "file_extension": ".py",
   "mimetype": "text/x-python",
   "name": "python",
   "nbconvert_exporter": "python",
   "pygments_lexer": "ipython3",
   "version": "3.6.5"
  }
 },
 "nbformat": 4,
 "nbformat_minor": 2
}
