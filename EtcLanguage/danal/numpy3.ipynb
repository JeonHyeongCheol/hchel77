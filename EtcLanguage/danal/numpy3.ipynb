{
 "cells": [
  {
   "cell_type": "code",
   "execution_count": 1,
   "metadata": {},
   "outputs": [],
   "source": [
    "import numpy as np"
   ]
  },
  {
   "cell_type": "code",
   "execution_count": 5,
   "metadata": {},
   "outputs": [
    {
     "name": "stdout",
     "output_type": "stream",
     "text": [
      "int32 float64 int32\n"
     ]
    }
   ],
   "source": [
    "x = np.array([[1,2], [3,4]])\n",
    "y = np.array([[5,6], [7,8]], dtype=np.float64) # 타입 변환\n",
    "z = y.astype(np.int32)\n",
    "print(x.dtype, y.dtype, z.dtype)"
   ]
  },
  {
   "cell_type": "code",
   "execution_count": 8,
   "metadata": {},
   "outputs": [
    {
     "name": "stdout",
     "output_type": "stream",
     "text": [
      "[[ 6.  8.]\n",
      " [10. 12.]]\n",
      "[[ 6.  8.]\n",
      " [10. 12.]]\n",
      "[[-4. -4.]\n",
      " [-4. -4.]]\n",
      "[[-4. -4.]\n",
      " [-4. -4.]]\n",
      "[[ 5. 12.]\n",
      " [21. 32.]]\n",
      "[[ 5. 12.]\n",
      " [21. 32.]]\n",
      "[[0.2        0.33333333]\n",
      " [0.42857143 0.5       ]]\n",
      "[[0.2        0.33333333]\n",
      " [0.42857143 0.5       ]]\n"
     ]
    }
   ],
   "source": [
    "# 연산관려\n",
    "print(x + y)\n",
    "print(np.add(x, y))\n",
    "print(x - y)\n",
    "print(np.subtract(x, y))\n",
    "print(x * y)\n",
    "print(np.multiply(x, y))\n",
    "print(x / y)\n",
    "print(np.divide(x, y))"
   ]
  },
  {
   "cell_type": "code",
   "execution_count": 12,
   "metadata": {},
   "outputs": [
    {
     "name": "stdout",
     "output_type": "stream",
     "text": [
      "[ 99 120]\n",
      "219\n",
      "219\n"
     ]
    }
   ],
   "source": [
    "v = np.array([9, 10])\n",
    "w = np.array([11, 12])\n",
    "print(v * w) # 연산값 스칼라\n",
    "print(v.dot(w))\n",
    "print(np.dot(v, w))"
   ]
  },
  {
   "cell_type": "code",
   "execution_count": 15,
   "metadata": {},
   "outputs": [
    {
     "name": "stdout",
     "output_type": "stream",
     "text": [
      "[[1 2]\n",
      " [3 4]]\n",
      "10\n",
      "[4 6]\n",
      "[3 7]\n",
      "[ 1  3  6 10]\n",
      "[ 1  2  6 24]\n"
     ]
    }
   ],
   "source": [
    "print(x)    \n",
    "print(np.sum(x))\n",
    "print(np.sum(x, axis=0)) # 열단위\n",
    "print(np.sum(x, axis=1  )) # 행단위\n",
    "print(np.cumsum(x)) # 각 원소의 눚갑\n",
    "print(np.cumprod(x)) # 각 원의 누적곱"
   ]
  },
  {
   "cell_type": "code",
   "execution_count": 19,
   "metadata": {},
   "outputs": [
    {
     "name": "stdout",
     "output_type": "stream",
     "text": [
      "['james' 'oscar' 'test' 'tom']\n",
      "['tom']\n",
      "['tom']\n",
      "['james' 'jon' 'oscar' 'page' 'test' 'tom']\n"
     ]
    }
   ],
   "source": [
    "names1 = np.array(['test', 'james', 'tom', 'oscar'])\n",
    "names2 = np.array(['tom', 'page', 'jon'])\n",
    "\n",
    "print(np.unique(names1))\n",
    "print(np.intersect1d(names1, names2))\n",
    "print(np.intersect1d(names1, names2, assume_unique=True))\n",
    "print(np.union1d(names1, names2))\n"
   ]
  },
  {
   "cell_type": "code",
   "execution_count": 43,
   "metadata": {},
   "outputs": [
    {
     "name": "stdout",
     "output_type": "stream",
     "text": [
      "[[1 2 3]\n",
      " [4 5 6]]\n",
      "[1 2 3 4 5 6]\n",
      "[[1 4]\n",
      " [2 5]\n",
      " [3 6]]\n",
      "[[1 4]\n",
      " [2 5]\n",
      " [3 6]]\n",
      "[[1 4]\n",
      " [2 5]\n",
      " [3 6]]\n"
     ]
    }
   ],
   "source": [
    "print(x)\n",
    "print(x.flatten()) # 다차원은 1차원으로 바꿈\n",
    "print(x.T) # 행과 열을 바꿈\n",
    "print(x.transpose()) #위와 동일\n",
    "print(x.swapaxes(0, 1))"
   ]
  },
  {
   "cell_type": "code",
   "execution_count": 23,
   "metadata": {},
   "outputs": [
    {
     "name": "stdout",
     "output_type": "stream",
     "text": [
      "[[ 1  2  3  4  5]\n",
      " [ 6  7  8  9 10]\n",
      " [11 12 13 14 15]]\n",
      "[[ 1  6 11]\n",
      " [ 2  7 12]\n",
      " [ 3  8 13]\n",
      " [ 4  9 14]\n",
      " [ 5 10 15]]\n",
      "\n",
      "[[158 176 194 212 230]\n",
      " [176 197 218 239 260]\n",
      " [194 218 242 266 290]\n",
      " [212 239 266 293 320]\n",
      " [230 260 290 320 350]]\n"
     ]
    }
   ],
   "source": [
    "arr = np.arange(1, 16).reshape(3, 5)\n",
    "print(arr)\n",
    "print(arr.T)\n",
    "print( ) # x\n",
    "\n",
    "print(np.dot(arr.T, arr)) # (a,b), (c, d) =   ac +bd # 내적 구함.."
   ]
  },
  {
   "cell_type": "code",
   "execution_count": 45,
   "metadata": {},
   "outputs": [
    {
     "name": "stdout",
     "output_type": "stream",
     "text": [
      "[[1 2 3]\n",
      " [4 5 6]\n",
      " [7 8 9]]\n",
      "[1 0 1]\n",
      "[[ 2  2  4]\n",
      " [ 5  5  7]\n",
      " [ 8  8 10]]\n",
      "\n",
      "[[1 0 1]\n",
      " [1 0 1]\n",
      " [1 0 1]]\n",
      "[[ 2  2  4]\n",
      " [ 5  5  7]\n",
      " [ 8  8 10]]\n"
     ]
    }
   ],
   "source": [
    "x = np.array([[1,2,3], [4,5,6], [7,8,9]])\n",
    "y = np.array([1,0,1])\n",
    "z = np.empty_like(x)\n",
    "\n",
    "print(x)\n",
    "print(y)\n",
    "#print(z)\n",
    "for i in range(3):\n",
    "    z[i] = x[i] + y\n",
    "\n",
    "print(z)\n",
    "print()\n",
    "\n",
    "kbs = np.tile(y, (3,1))\n",
    "print(kbs)\n",
    "z = x + kbs\n",
    "print(z)\n"
   ]
  },
  {
   "cell_type": "code",
   "execution_count": 35,
   "metadata": {},
   "outputs": [
    {
     "name": "stdout",
     "output_type": "stream",
     "text": [
      "[[ 4  5]\n",
      " [ 8 10]\n",
      " [12 15]]\n",
      "[[ 4  8 12]\n",
      " [ 5 10 15]]\n",
      "\n",
      "[[2 4 6]\n",
      " [5 7 9]]\n",
      "\n",
      "[[ 5  6  7]\n",
      " [ 9 10 11]]\n"
     ]
    }
   ],
   "source": [
    "v = np.array([1, 2, 3])\n",
    "w = np.array([4, 5])\n",
    "print(np.reshape(v, (3,1)) * w)\n",
    "print(np.reshape(w, (2,1)) * v)\n",
    "print()\n",
    "\n",
    "x = np.array([[1,2,3], [4,5,6]])\n",
    "print(x + v)\n",
    "print()\n",
    "print((x.T + w).T)"
   ]
  },
  {
   "cell_type": "code",
   "execution_count": 46,
   "metadata": {},
   "outputs": [
    {
     "name": "stdout",
     "output_type": "stream",
     "text": [
      "[[1 2 3]\n",
      " [4 5 6]\n",
      " [7 8 9]]\n",
      "[[1 2 3]\n",
      " [4 5 6]\n",
      " [7 8 9]]\n",
      "[0 1 2 3 4 5 6 7 8 9]\n",
      "[0. 1. 2. 3. 4. 5. 6. 7. 8. 9.]\n",
      "[[1. 2. 3.]\n",
      " [4. 5. 6.]]\n"
     ]
    }
   ],
   "source": [
    "print(x)\n",
    "np.save('test file', x)\n",
    "imsi = np.load(\"test file.npy\")\n",
    "print(imsi)\n",
    "\n",
    "datas = np .arange(0, 10, 1)\n",
    "print(datas)\n",
    "np.savetxt(\"datas file.txt\", datas)\n",
    "mbc = np.loadtxt(\"datas file.txt\")\n",
    "print(mbc)\n",
    "\n",
    "sbsdata = np.loadtxt(\"sbs.txt\", delimiter= ',')\n",
    "print(sbsdata)"
   ]
  }
 ],
 "metadata": {
  "kernelspec": {
   "display_name": "Python 3",
   "language": "python",
   "name": "python3"
  },
  "language_info": {
   "codemirror_mode": {
    "name": "ipython",
    "version": 3
   },
   "file_extension": ".py",
   "mimetype": "text/x-python",
   "name": "python",
   "nbconvert_exporter": "python",
   "pygments_lexer": "ipython3",
   "version": "3.6.5"
  }
 },
 "nbformat": 4,
 "nbformat_minor": 2
}
