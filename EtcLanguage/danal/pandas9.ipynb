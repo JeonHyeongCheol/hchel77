{
 "cells": [
  {
   "cell_type": "code",
   "execution_count": 2,
   "metadata": {},
   "outputs": [],
   "source": [
    "import pandas as pd\n",
    "from pandas import DataFrame"
   ]
  },
  {
   "cell_type": "code",
   "execution_count": 4,
   "metadata": {},
   "outputs": [
    {
     "name": "stdout",
     "output_type": "stream",
     "text": [
      "       apple  orange\n",
      "count     10       4\n",
      "price   1500     700\n",
      "  Unnamed: 0  apple  orange\n",
      "0      count     10       4\n",
      "1      price   1500     700\n",
      "   apple  orange\n",
      "0     10       4\n",
      "1   1500     700\n",
      "     10    4\n",
      "0  1500  700\n"
     ]
    }
   ],
   "source": [
    "items = {'apple':{'count':10, 'price':1500},\n",
    "        'orange':{'count':4, 'price':700}}\n",
    "df = DataFrame(items)\n",
    "print(df)\n",
    "df.to_csv('result1.csv', sep=',')\n",
    "df.to_csv('result2.csv', sep=',', index=False)\n",
    "df.to_csv('result3.csv', sep=',', index=False, header=False)\n",
    "print(pd.read_csv('result1.csv'))\n",
    "print(pd.read_csv('result2.csv'))\n",
    "print(pd.read_csv('result3.csv'))"
   ]
  },
  {
   "cell_type": "code",
   "execution_count": 15,
   "metadata": {},
   "outputs": [
    {
     "name": "stdout",
     "output_type": "stream",
     "text": [
      "['Sheet1']\n",
      "   data\n",
      "0    10\n",
      "1    20\n",
      "2    30\n",
      "3    40\n",
      "4    50\n",
      "\n",
      "   data\n",
      "0    10\n",
      "1    20\n",
      "2    30\n",
      "3    40\n",
      "4    50\n"
     ]
    }
   ],
   "source": [
    "# excel 관련\n",
    "df2 = pd.DataFrame({'data':[10, 20, 30, 40, 50]})\n",
    "#print(df2)\n",
    "writer = pd.ExcelWriter(\"good.xlsx\", engine='xlsxwriter')\n",
    "df2.to_excel(writer, sheet_name='Sheet1')\n",
    "writer.save()\n",
    "\n",
    "obj = pd.ExcelFile(\"good.xlsx\") # 엑셀 파일 가져옴.\n",
    "print(obj.sheet_names) # Sheet\n",
    "df3 = obj.parse(\"Sheet1\") # 엑셀안에 Sheet 네임명안에 있는 값 가져옴.\n",
    "print(df3)\n",
    "print()\n",
    "\n",
    "df4 = pd.read_excel(open('good.xlsx', 'rb'), sheet_name='Sheet1')\n",
    "print(df4)"
   ]
  },
  {
   "cell_type": "code",
   "execution_count": null,
   "metadata": {},
   "outputs": [],
   "source": []
  }
 ],
 "metadata": {
  "kernelspec": {
   "display_name": "Python 3",
   "language": "python",
   "name": "python3"
  },
  "language_info": {
   "codemirror_mode": {
    "name": "ipython",
    "version": 3
   },
   "file_extension": ".py",
   "mimetype": "text/x-python",
   "name": "python",
   "nbconvert_exporter": "python",
   "pygments_lexer": "ipython3",
   "version": "3.6.5"
  }
 },
 "nbformat": 4,
 "nbformat_minor": 2
}
